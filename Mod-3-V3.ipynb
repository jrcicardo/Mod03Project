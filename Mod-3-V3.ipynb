{
 "cells": [
  {
   "cell_type": "code",
   "execution_count": 1,
   "metadata": {},
   "outputs": [],
   "source": [
    "import pandas as pd\n",
    "import sqlite3\n",
    "import numpy as np\n",
    "import matplotlib.pyplot as plt\n",
    "import seaborn as sns\n",
    "import pickle\n",
    "import os\n",
    "import matplotlib as mpl\n",
    "import statsmodels.api as sm\n",
    "from statsmodels.formula.api import ols\n",
    "import scipy.stats as stats\n",
    "from math import sqrt\n",
    "import warnings\n",
    "warnings.filterwarnings('ignore')"
   ]
  },
  {
   "cell_type": "markdown",
   "metadata": {},
   "source": [
    "Bringing in Data from Sqlite Datatbase. \n",
    "\n"
   ]
  },
  {
   "cell_type": "code",
   "execution_count": 2,
   "metadata": {},
   "outputs": [],
   "source": [
    "conn = sqlite3.connect('database.sqlite3')\n",
    "c = conn.cursor()"
   ]
  },
  {
   "cell_type": "code",
   "execution_count": 3,
   "metadata": {},
   "outputs": [
    {
     "data": {
      "text/plain": [
       "(2077516, 33)"
      ]
     },
     "execution_count": 3,
     "metadata": {},
     "output_type": "execute_result"
    }
   ],
   "source": [
    "c.execute('''SELECT * FROM grade_distributions JOIN sections using (course_offering_uuid) JOIN schedules on sections.schedule_uuid = schedules.uuid''')\n",
    "df = pd.DataFrame(c.fetchall())\n",
    "df.columns = [i[0] for i in c.description]\n",
    "df.shape"
   ]
  },
  {
   "cell_type": "markdown",
   "metadata": {},
   "source": [
    "Cleaning up the dataframe"
   ]
  },
  {
   "cell_type": "code",
   "execution_count": 4,
   "metadata": {},
   "outputs": [],
   "source": [
    "df_dropped = df.drop(columns=['mon', 'tues', 'wed', 'thurs', 'fri','uuid', 'other_count', 'sat','sun','room_uuid', 'section_number', 'n_count', 'p_count', 'nw_count', 'u_count', 's_count', 'i_count', 'nr_count', 'number', 'schedule_uuid', 'end_time'], axis=1)"
   ]
  },
  {
   "cell_type": "code",
   "execution_count": 5,
   "metadata": {},
   "outputs": [
    {
     "data": {
      "text/html": [
       "<div>\n",
       "<style scoped>\n",
       "    .dataframe tbody tr th:only-of-type {\n",
       "        vertical-align: middle;\n",
       "    }\n",
       "\n",
       "    .dataframe tbody tr th {\n",
       "        vertical-align: top;\n",
       "    }\n",
       "\n",
       "    .dataframe thead th {\n",
       "        text-align: right;\n",
       "    }\n",
       "</style>\n",
       "<table border=\"1\" class=\"dataframe\">\n",
       "  <thead>\n",
       "    <tr style=\"text-align: right;\">\n",
       "      <th></th>\n",
       "      <th>course_offering_uuid</th>\n",
       "      <th>c_count</th>\n",
       "      <th>f_count</th>\n",
       "      <th>cr_count</th>\n",
       "      <th>bc_count</th>\n",
       "      <th>d_count</th>\n",
       "      <th>ab_count</th>\n",
       "      <th>a_count</th>\n",
       "      <th>b_count</th>\n",
       "      <th>section_type</th>\n",
       "      <th>start_time</th>\n",
       "    </tr>\n",
       "  </thead>\n",
       "  <tbody>\n",
       "    <tr>\n",
       "      <th>0</th>\n",
       "      <td>344b3ebe-da7e-314c-83ed-9425269695fd</td>\n",
       "      <td>0</td>\n",
       "      <td>0</td>\n",
       "      <td>0</td>\n",
       "      <td>0</td>\n",
       "      <td>0</td>\n",
       "      <td>0</td>\n",
       "      <td>105</td>\n",
       "      <td>0</td>\n",
       "      <td>FLD</td>\n",
       "      <td>-1</td>\n",
       "    </tr>\n",
       "    <tr>\n",
       "      <th>1</th>\n",
       "      <td>f718e6cd-33f0-3c14-a9a6-834d9c3610a8</td>\n",
       "      <td>0</td>\n",
       "      <td>0</td>\n",
       "      <td>0</td>\n",
       "      <td>0</td>\n",
       "      <td>0</td>\n",
       "      <td>0</td>\n",
       "      <td>158</td>\n",
       "      <td>0</td>\n",
       "      <td>FLD</td>\n",
       "      <td>-1</td>\n",
       "    </tr>\n",
       "    <tr>\n",
       "      <th>2</th>\n",
       "      <td>ea3b717c-d66b-30dc-8b37-964d9688295f</td>\n",
       "      <td>3</td>\n",
       "      <td>0</td>\n",
       "      <td>0</td>\n",
       "      <td>0</td>\n",
       "      <td>0</td>\n",
       "      <td>12</td>\n",
       "      <td>139</td>\n",
       "      <td>2</td>\n",
       "      <td>FLD</td>\n",
       "      <td>-1</td>\n",
       "    </tr>\n",
       "    <tr>\n",
       "      <th>3</th>\n",
       "      <td>ea3b717c-d66b-30dc-8b37-964d9688295f</td>\n",
       "      <td>3</td>\n",
       "      <td>0</td>\n",
       "      <td>0</td>\n",
       "      <td>0</td>\n",
       "      <td>0</td>\n",
       "      <td>12</td>\n",
       "      <td>139</td>\n",
       "      <td>2</td>\n",
       "      <td>FLD</td>\n",
       "      <td>-1</td>\n",
       "    </tr>\n",
       "    <tr>\n",
       "      <th>4</th>\n",
       "      <td>ea3b717c-d66b-30dc-8b37-964d9688295f</td>\n",
       "      <td>3</td>\n",
       "      <td>0</td>\n",
       "      <td>0</td>\n",
       "      <td>0</td>\n",
       "      <td>0</td>\n",
       "      <td>12</td>\n",
       "      <td>139</td>\n",
       "      <td>2</td>\n",
       "      <td>FLD</td>\n",
       "      <td>-1</td>\n",
       "    </tr>\n",
       "  </tbody>\n",
       "</table>\n",
       "</div>"
      ],
      "text/plain": [
       "                   course_offering_uuid c_count f_count cr_count bc_count  \\\n",
       "0  344b3ebe-da7e-314c-83ed-9425269695fd       0       0        0        0   \n",
       "1  f718e6cd-33f0-3c14-a9a6-834d9c3610a8       0       0        0        0   \n",
       "2  ea3b717c-d66b-30dc-8b37-964d9688295f       3       0        0        0   \n",
       "3  ea3b717c-d66b-30dc-8b37-964d9688295f       3       0        0        0   \n",
       "4  ea3b717c-d66b-30dc-8b37-964d9688295f       3       0        0        0   \n",
       "\n",
       "  d_count ab_count a_count b_count section_type start_time  \n",
       "0       0        0     105       0          FLD         -1  \n",
       "1       0        0     158       0          FLD         -1  \n",
       "2       0       12     139       2          FLD         -1  \n",
       "3       0       12     139       2          FLD         -1  \n",
       "4       0       12     139       2          FLD         -1  "
      ]
     },
     "execution_count": 5,
     "metadata": {},
     "output_type": "execute_result"
    }
   ],
   "source": [
    "df_dropped.head()"
   ]
  },
  {
   "cell_type": "markdown",
   "metadata": {},
   "source": [
    "Transforming the Start Time into hours."
   ]
  },
  {
   "cell_type": "code",
   "execution_count": 6,
   "metadata": {},
   "outputs": [
    {
     "data": {
      "text/plain": [
       "[-0.016666666666666666,\n",
       " 0.5,\n",
       " 1.1666666666666667,\n",
       " 2.5,\n",
       " 5.5,\n",
       " 6.0,\n",
       " 6.5,\n",
       " 7.0,\n",
       " 7.25,\n",
       " 7.333333333333333,\n",
       " 7.5,\n",
       " 7.583333333333333,\n",
       " 7.666666666666667,\n",
       " 7.75,\n",
       " 7.833333333333333,\n",
       " 7.916666666666667,\n",
       " 8.0,\n",
       " 8.083333333333334,\n",
       " 8.166666666666666,\n",
       " 8.25,\n",
       " 8.333333333333334,\n",
       " 8.416666666666666,\n",
       " 8.5,\n",
       " 8.583333333333334,\n",
       " 8.666666666666666,\n",
       " 8.75,\n",
       " 8.833333333333334,\n",
       " 8.916666666666666,\n",
       " 9.0,\n",
       " 9.083333333333334,\n",
       " 9.166666666666666,\n",
       " 9.25,\n",
       " 9.333333333333334,\n",
       " 9.416666666666666,\n",
       " 9.5,\n",
       " 9.583333333333334,\n",
       " 9.666666666666666,\n",
       " 9.75,\n",
       " 9.833333333333334,\n",
       " 9.916666666666666,\n",
       " 10.0,\n",
       " 10.083333333333334,\n",
       " 10.166666666666666,\n",
       " 10.25,\n",
       " 10.333333333333334,\n",
       " 10.416666666666666,\n",
       " 10.5,\n",
       " 10.583333333333334,\n",
       " 10.666666666666666,\n",
       " 10.75,\n",
       " 10.833333333333334,\n",
       " 10.916666666666666,\n",
       " 11.0,\n",
       " 11.083333333333334,\n",
       " 11.166666666666666,\n",
       " 11.25,\n",
       " 11.333333333333334,\n",
       " 11.416666666666666,\n",
       " 11.5,\n",
       " 11.583333333333334,\n",
       " 11.666666666666666,\n",
       " 11.75,\n",
       " 11.833333333333334,\n",
       " 11.916666666666666,\n",
       " 12.0,\n",
       " 12.033333333333333,\n",
       " 12.083333333333334,\n",
       " 12.166666666666666,\n",
       " 12.25,\n",
       " 12.333333333333334,\n",
       " 12.416666666666666,\n",
       " 12.5,\n",
       " 12.583333333333334,\n",
       " 12.666666666666666,\n",
       " 12.75,\n",
       " 12.833333333333334,\n",
       " 12.916666666666666,\n",
       " 13.0,\n",
       " 13.083333333333334,\n",
       " 13.166666666666666,\n",
       " 13.25,\n",
       " 13.333333333333334,\n",
       " 13.416666666666666,\n",
       " 13.5,\n",
       " 13.583333333333334,\n",
       " 13.666666666666666,\n",
       " 13.75,\n",
       " 13.833333333333334,\n",
       " 13.916666666666666,\n",
       " 14.0,\n",
       " 14.166666666666666,\n",
       " 14.25,\n",
       " 14.333333333333334,\n",
       " 14.416666666666666,\n",
       " 14.5,\n",
       " 14.583333333333334,\n",
       " 14.666666666666666,\n",
       " 14.75,\n",
       " 14.833333333333334,\n",
       " 14.916666666666666,\n",
       " 15.0,\n",
       " 15.083333333333334,\n",
       " 15.166666666666666,\n",
       " 15.25,\n",
       " 15.333333333333334,\n",
       " 15.416666666666666,\n",
       " 15.5,\n",
       " 15.583333333333334,\n",
       " 15.666666666666666,\n",
       " 15.75,\n",
       " 15.833333333333334,\n",
       " 15.916666666666666,\n",
       " 16.0,\n",
       " 16.083333333333332,\n",
       " 16.166666666666668,\n",
       " 16.25,\n",
       " 16.333333333333332,\n",
       " 16.416666666666668,\n",
       " 16.5,\n",
       " 16.583333333333332,\n",
       " 16.666666666666668,\n",
       " 16.75,\n",
       " 16.833333333333332,\n",
       " 16.916666666666668,\n",
       " 17.0,\n",
       " 17.083333333333332,\n",
       " 17.166666666666668,\n",
       " 17.25,\n",
       " 17.333333333333332,\n",
       " 17.416666666666668,\n",
       " 17.5,\n",
       " 17.583333333333332,\n",
       " 17.666666666666668,\n",
       " 17.75,\n",
       " 17.833333333333332,\n",
       " 17.916666666666668,\n",
       " 18.0,\n",
       " 18.083333333333332,\n",
       " 18.166666666666668,\n",
       " 18.25,\n",
       " 18.333333333333332,\n",
       " 18.5,\n",
       " 18.583333333333332,\n",
       " 18.666666666666668,\n",
       " 18.75,\n",
       " 18.916666666666668,\n",
       " 19.0,\n",
       " 19.083333333333332,\n",
       " 19.25,\n",
       " 19.333333333333332,\n",
       " 19.5,\n",
       " 19.75,\n",
       " 19.833333333333332,\n",
       " 20.0,\n",
       " 20.25,\n",
       " 21.0,\n",
       " 21.916666666666668]"
      ]
     },
     "execution_count": 6,
     "metadata": {},
     "output_type": "execute_result"
    }
   ],
   "source": [
    "df_dropped[\"start_time\"] = df_dropped[\"start_time\"].apply(\n",
    "    lambda x: int(x) / 60\n",
    ")\n",
    "df_dropped = df_dropped.dropna()\n",
    "sorted(pd.unique(df_dropped[\"start_time\"]))"
   ]
  },
  {
   "cell_type": "markdown",
   "metadata": {},
   "source": [
    "Removed start times that start before 6:00 AM"
   ]
  },
  {
   "cell_type": "code",
   "execution_count": 7,
   "metadata": {},
   "outputs": [
    {
     "data": {
      "text/plain": [
       "[6.5,\n",
       " 7.0,\n",
       " 7.25,\n",
       " 7.333333333333333,\n",
       " 7.5,\n",
       " 7.583333333333333,\n",
       " 7.666666666666667,\n",
       " 7.75,\n",
       " 7.833333333333333,\n",
       " 7.916666666666667,\n",
       " 8.0,\n",
       " 8.083333333333334,\n",
       " 8.166666666666666,\n",
       " 8.25,\n",
       " 8.333333333333334,\n",
       " 8.416666666666666,\n",
       " 8.5,\n",
       " 8.583333333333334,\n",
       " 8.666666666666666,\n",
       " 8.75,\n",
       " 8.833333333333334,\n",
       " 8.916666666666666,\n",
       " 9.0,\n",
       " 9.083333333333334,\n",
       " 9.166666666666666,\n",
       " 9.25,\n",
       " 9.333333333333334,\n",
       " 9.416666666666666,\n",
       " 9.5,\n",
       " 9.583333333333334,\n",
       " 9.666666666666666,\n",
       " 9.75,\n",
       " 9.833333333333334,\n",
       " 9.916666666666666,\n",
       " 10.0,\n",
       " 10.083333333333334,\n",
       " 10.166666666666666,\n",
       " 10.25,\n",
       " 10.333333333333334,\n",
       " 10.416666666666666,\n",
       " 10.5,\n",
       " 10.583333333333334,\n",
       " 10.666666666666666,\n",
       " 10.75,\n",
       " 10.833333333333334,\n",
       " 10.916666666666666,\n",
       " 11.0,\n",
       " 11.083333333333334,\n",
       " 11.166666666666666,\n",
       " 11.25,\n",
       " 11.333333333333334,\n",
       " 11.416666666666666,\n",
       " 11.5,\n",
       " 11.583333333333334,\n",
       " 11.666666666666666,\n",
       " 11.75,\n",
       " 11.833333333333334,\n",
       " 11.916666666666666,\n",
       " 12.0,\n",
       " 12.033333333333333,\n",
       " 12.083333333333334,\n",
       " 12.166666666666666,\n",
       " 12.25,\n",
       " 12.333333333333334,\n",
       " 12.416666666666666,\n",
       " 12.5,\n",
       " 12.583333333333334,\n",
       " 12.666666666666666,\n",
       " 12.75,\n",
       " 12.833333333333334,\n",
       " 12.916666666666666,\n",
       " 13.0,\n",
       " 13.083333333333334,\n",
       " 13.166666666666666,\n",
       " 13.25,\n",
       " 13.333333333333334,\n",
       " 13.416666666666666,\n",
       " 13.5,\n",
       " 13.583333333333334,\n",
       " 13.666666666666666,\n",
       " 13.75,\n",
       " 13.833333333333334,\n",
       " 13.916666666666666,\n",
       " 14.0,\n",
       " 14.166666666666666,\n",
       " 14.25,\n",
       " 14.333333333333334,\n",
       " 14.416666666666666,\n",
       " 14.5,\n",
       " 14.583333333333334,\n",
       " 14.666666666666666,\n",
       " 14.75,\n",
       " 14.833333333333334,\n",
       " 14.916666666666666,\n",
       " 15.0,\n",
       " 15.083333333333334,\n",
       " 15.166666666666666,\n",
       " 15.25,\n",
       " 15.333333333333334,\n",
       " 15.416666666666666,\n",
       " 15.5,\n",
       " 15.583333333333334,\n",
       " 15.666666666666666,\n",
       " 15.75,\n",
       " 15.833333333333334,\n",
       " 15.916666666666666,\n",
       " 16.0,\n",
       " 16.083333333333332,\n",
       " 16.166666666666668,\n",
       " 16.25,\n",
       " 16.333333333333332,\n",
       " 16.416666666666668,\n",
       " 16.5,\n",
       " 16.583333333333332,\n",
       " 16.666666666666668,\n",
       " 16.75,\n",
       " 16.833333333333332,\n",
       " 16.916666666666668,\n",
       " 17.0,\n",
       " 17.083333333333332,\n",
       " 17.166666666666668,\n",
       " 17.25,\n",
       " 17.333333333333332,\n",
       " 17.416666666666668,\n",
       " 17.5,\n",
       " 17.583333333333332,\n",
       " 17.666666666666668,\n",
       " 17.75,\n",
       " 17.833333333333332,\n",
       " 17.916666666666668,\n",
       " 18.0,\n",
       " 18.083333333333332,\n",
       " 18.166666666666668,\n",
       " 18.25,\n",
       " 18.333333333333332,\n",
       " 18.5,\n",
       " 18.583333333333332,\n",
       " 18.666666666666668,\n",
       " 18.75,\n",
       " 18.916666666666668,\n",
       " 19.0,\n",
       " 19.083333333333332,\n",
       " 19.25,\n",
       " 19.333333333333332,\n",
       " 19.5,\n",
       " 19.75,\n",
       " 19.833333333333332,\n",
       " 20.0,\n",
       " 20.25,\n",
       " 21.0,\n",
       " 21.916666666666668]"
      ]
     },
     "execution_count": 7,
     "metadata": {},
     "output_type": "execute_result"
    }
   ],
   "source": [
    "df_dropped = df_dropped.loc[df_dropped[\"start_time\"] > 6]\n",
    "sorted(pd.unique(df_dropped[\"start_time\"]))"
   ]
  },
  {
   "cell_type": "markdown",
   "metadata": {},
   "source": [
    "Created a new column that shows what hour each class started within"
   ]
  },
  {
   "cell_type": "code",
   "execution_count": 8,
   "metadata": {},
   "outputs": [],
   "source": [
    "df_dropped[\"hour_within\"] = df_dropped[\"start_time\"].apply(lambda x: x // 1)"
   ]
  },
  {
   "cell_type": "code",
   "execution_count": 9,
   "metadata": {},
   "outputs": [
    {
     "data": {
      "text/html": [
       "<div>\n",
       "<style scoped>\n",
       "    .dataframe tbody tr th:only-of-type {\n",
       "        vertical-align: middle;\n",
       "    }\n",
       "\n",
       "    .dataframe tbody tr th {\n",
       "        vertical-align: top;\n",
       "    }\n",
       "\n",
       "    .dataframe thead th {\n",
       "        text-align: right;\n",
       "    }\n",
       "</style>\n",
       "<table border=\"1\" class=\"dataframe\">\n",
       "  <thead>\n",
       "    <tr style=\"text-align: right;\">\n",
       "      <th></th>\n",
       "      <th>course_offering_uuid</th>\n",
       "      <th>c_count</th>\n",
       "      <th>f_count</th>\n",
       "      <th>cr_count</th>\n",
       "      <th>bc_count</th>\n",
       "      <th>d_count</th>\n",
       "      <th>ab_count</th>\n",
       "      <th>a_count</th>\n",
       "      <th>b_count</th>\n",
       "      <th>section_type</th>\n",
       "      <th>start_time</th>\n",
       "      <th>hour_within</th>\n",
       "    </tr>\n",
       "  </thead>\n",
       "  <tbody>\n",
       "    <tr>\n",
       "      <th>165</th>\n",
       "      <td>a71789f0-09d9-3374-bd21-04a719a62af8</td>\n",
       "      <td>0</td>\n",
       "      <td>0</td>\n",
       "      <td>0</td>\n",
       "      <td>0</td>\n",
       "      <td>0</td>\n",
       "      <td>0</td>\n",
       "      <td>46</td>\n",
       "      <td>0</td>\n",
       "      <td>LAB</td>\n",
       "      <td>8.833333</td>\n",
       "      <td>8.0</td>\n",
       "    </tr>\n",
       "    <tr>\n",
       "      <th>166</th>\n",
       "      <td>a71789f0-09d9-3374-bd21-04a719a62af8</td>\n",
       "      <td>0</td>\n",
       "      <td>0</td>\n",
       "      <td>0</td>\n",
       "      <td>0</td>\n",
       "      <td>0</td>\n",
       "      <td>0</td>\n",
       "      <td>41</td>\n",
       "      <td>0</td>\n",
       "      <td>LAB</td>\n",
       "      <td>8.833333</td>\n",
       "      <td>8.0</td>\n",
       "    </tr>\n",
       "    <tr>\n",
       "      <th>167</th>\n",
       "      <td>a71789f0-09d9-3374-bd21-04a719a62af8</td>\n",
       "      <td>0</td>\n",
       "      <td>0</td>\n",
       "      <td>0</td>\n",
       "      <td>0</td>\n",
       "      <td>0</td>\n",
       "      <td>5</td>\n",
       "      <td>13</td>\n",
       "      <td>1</td>\n",
       "      <td>LAB</td>\n",
       "      <td>8.833333</td>\n",
       "      <td>8.0</td>\n",
       "    </tr>\n",
       "    <tr>\n",
       "      <th>168</th>\n",
       "      <td>a71789f0-09d9-3374-bd21-04a719a62af8</td>\n",
       "      <td>0</td>\n",
       "      <td>0</td>\n",
       "      <td>0</td>\n",
       "      <td>0</td>\n",
       "      <td>0</td>\n",
       "      <td>6</td>\n",
       "      <td>11</td>\n",
       "      <td>2</td>\n",
       "      <td>LAB</td>\n",
       "      <td>8.833333</td>\n",
       "      <td>8.0</td>\n",
       "    </tr>\n",
       "    <tr>\n",
       "      <th>169</th>\n",
       "      <td>a71789f0-09d9-3374-bd21-04a719a62af8</td>\n",
       "      <td>0</td>\n",
       "      <td>0</td>\n",
       "      <td>0</td>\n",
       "      <td>0</td>\n",
       "      <td>0</td>\n",
       "      <td>0</td>\n",
       "      <td>46</td>\n",
       "      <td>0</td>\n",
       "      <td>LAB</td>\n",
       "      <td>11.000000</td>\n",
       "      <td>11.0</td>\n",
       "    </tr>\n",
       "  </tbody>\n",
       "</table>\n",
       "</div>"
      ],
      "text/plain": [
       "                     course_offering_uuid c_count f_count cr_count bc_count  \\\n",
       "165  a71789f0-09d9-3374-bd21-04a719a62af8       0       0        0        0   \n",
       "166  a71789f0-09d9-3374-bd21-04a719a62af8       0       0        0        0   \n",
       "167  a71789f0-09d9-3374-bd21-04a719a62af8       0       0        0        0   \n",
       "168  a71789f0-09d9-3374-bd21-04a719a62af8       0       0        0        0   \n",
       "169  a71789f0-09d9-3374-bd21-04a719a62af8       0       0        0        0   \n",
       "\n",
       "    d_count ab_count a_count b_count section_type  start_time  hour_within  \n",
       "165       0        0      46       0          LAB    8.833333          8.0  \n",
       "166       0        0      41       0          LAB    8.833333          8.0  \n",
       "167       0        5      13       1          LAB    8.833333          8.0  \n",
       "168       0        6      11       2          LAB    8.833333          8.0  \n",
       "169       0        0      46       0          LAB   11.000000         11.0  "
      ]
     },
     "execution_count": 9,
     "metadata": {},
     "output_type": "execute_result"
    }
   ],
   "source": [
    "df_dropped.head()"
   ]
  },
  {
   "cell_type": "code",
   "execution_count": 10,
   "metadata": {},
   "outputs": [
    {
     "name": "stdout",
     "output_type": "stream",
     "text": [
      "<class 'pandas.core.frame.DataFrame'>\n",
      "Int64Index: 766724 entries, 165 to 2077513\n",
      "Data columns (total 9 columns):\n",
      "f_count                 766724 non-null object\n",
      "d_count                 766724 non-null object\n",
      "c_count                 766724 non-null object\n",
      "bc_count                766724 non-null object\n",
      "b_count                 766724 non-null object\n",
      "ab_count                766724 non-null object\n",
      "a_count                 766724 non-null object\n",
      "start_time              766724 non-null float64\n",
      "course_offering_uuid    766724 non-null object\n",
      "dtypes: float64(1), object(8)\n",
      "memory usage: 58.5+ MB\n"
     ]
    }
   ],
   "source": [
    "important_grades = [\n",
    "    \"f_count\",\n",
    "    \"d_count\",\n",
    "    \"c_count\",\n",
    "    \"bc_count\",\n",
    "    \"b_count\",\n",
    "    \"ab_count\",\n",
    "    \"a_count\",\n",
    "]\n",
    "\n",
    "# course_offering_uuid is needed for a later join\n",
    "df_dropped = df_dropped[[*important_grades, \"start_time\", \"course_offering_uuid\"]]\n",
    "df_dropped.info()"
   ]
  },
  {
   "cell_type": "markdown",
   "metadata": {},
   "source": [
    "Converted the grades from objects to floats"
   ]
  },
  {
   "cell_type": "code",
   "execution_count": 11,
   "metadata": {},
   "outputs": [],
   "source": [
    "df_dropped[important_grades] = df_dropped[important_grades].apply(lambda x: pd.to_numeric(x))\n",
    "df_dropped = df_dropped.dropna()\n"
   ]
  },
  {
   "cell_type": "markdown",
   "metadata": {},
   "source": [
    "Turned grades into an average GPA for the class and ratio for each grade"
   ]
  },
  {
   "cell_type": "code",
   "execution_count": 12,
   "metadata": {},
   "outputs": [],
   "source": [
    "grades = df_dropped[important_grades].copy()\n",
    "df_dropped[\"total\"] = grades.sum(axis=1)\n",
    "important_grades_ratios = list(map(lambda x: x + \"_ratio\", important_grades))\n",
    "df_dropped[important_grades_ratios] = grades[important_grades].apply(lambda x: x / df_dropped[\"total\"])"
   ]
  },
  {
   "cell_type": "code",
   "execution_count": 13,
   "metadata": {},
   "outputs": [],
   "source": [
    "gpa_scale = np.array([0, 1, 2, 2.5, 3, 3.5, 4], dtype=\"float32\")\n",
    "df_dropped[\"gpa\"] = df_dropped[important_grades_ratios].apply(lambda x: np.dot(x, gpa_scale), axis=1)"
   ]
  },
  {
   "cell_type": "code",
   "execution_count": 14,
   "metadata": {},
   "outputs": [],
   "source": [
    "df_dropped[\"hour_within\"] = df_dropped[\"start_time\"].apply(lambda x: x // 1)"
   ]
  },
  {
   "cell_type": "code",
   "execution_count": 15,
   "metadata": {},
   "outputs": [
    {
     "data": {
      "text/html": [
       "<div>\n",
       "<style scoped>\n",
       "    .dataframe tbody tr th:only-of-type {\n",
       "        vertical-align: middle;\n",
       "    }\n",
       "\n",
       "    .dataframe tbody tr th {\n",
       "        vertical-align: top;\n",
       "    }\n",
       "\n",
       "    .dataframe thead th {\n",
       "        text-align: right;\n",
       "    }\n",
       "</style>\n",
       "<table border=\"1\" class=\"dataframe\">\n",
       "  <thead>\n",
       "    <tr style=\"text-align: right;\">\n",
       "      <th></th>\n",
       "      <th>f_count</th>\n",
       "      <th>d_count</th>\n",
       "      <th>c_count</th>\n",
       "      <th>bc_count</th>\n",
       "      <th>b_count</th>\n",
       "      <th>ab_count</th>\n",
       "      <th>a_count</th>\n",
       "      <th>start_time</th>\n",
       "      <th>course_offering_uuid</th>\n",
       "      <th>total</th>\n",
       "      <th>f_count_ratio</th>\n",
       "      <th>d_count_ratio</th>\n",
       "      <th>c_count_ratio</th>\n",
       "      <th>bc_count_ratio</th>\n",
       "      <th>b_count_ratio</th>\n",
       "      <th>ab_count_ratio</th>\n",
       "      <th>a_count_ratio</th>\n",
       "      <th>gpa</th>\n",
       "      <th>hour_within</th>\n",
       "    </tr>\n",
       "  </thead>\n",
       "  <tbody>\n",
       "    <tr>\n",
       "      <th>165</th>\n",
       "      <td>0</td>\n",
       "      <td>0</td>\n",
       "      <td>0</td>\n",
       "      <td>0</td>\n",
       "      <td>0</td>\n",
       "      <td>0</td>\n",
       "      <td>46</td>\n",
       "      <td>8.833333</td>\n",
       "      <td>a71789f0-09d9-3374-bd21-04a719a62af8</td>\n",
       "      <td>46</td>\n",
       "      <td>0.0</td>\n",
       "      <td>0.0</td>\n",
       "      <td>0.0</td>\n",
       "      <td>0.0</td>\n",
       "      <td>0.000000</td>\n",
       "      <td>0.000000</td>\n",
       "      <td>1.000000</td>\n",
       "      <td>4.000000</td>\n",
       "      <td>8.0</td>\n",
       "    </tr>\n",
       "    <tr>\n",
       "      <th>166</th>\n",
       "      <td>0</td>\n",
       "      <td>0</td>\n",
       "      <td>0</td>\n",
       "      <td>0</td>\n",
       "      <td>0</td>\n",
       "      <td>0</td>\n",
       "      <td>41</td>\n",
       "      <td>8.833333</td>\n",
       "      <td>a71789f0-09d9-3374-bd21-04a719a62af8</td>\n",
       "      <td>41</td>\n",
       "      <td>0.0</td>\n",
       "      <td>0.0</td>\n",
       "      <td>0.0</td>\n",
       "      <td>0.0</td>\n",
       "      <td>0.000000</td>\n",
       "      <td>0.000000</td>\n",
       "      <td>1.000000</td>\n",
       "      <td>4.000000</td>\n",
       "      <td>8.0</td>\n",
       "    </tr>\n",
       "    <tr>\n",
       "      <th>167</th>\n",
       "      <td>0</td>\n",
       "      <td>0</td>\n",
       "      <td>0</td>\n",
       "      <td>0</td>\n",
       "      <td>1</td>\n",
       "      <td>5</td>\n",
       "      <td>13</td>\n",
       "      <td>8.833333</td>\n",
       "      <td>a71789f0-09d9-3374-bd21-04a719a62af8</td>\n",
       "      <td>19</td>\n",
       "      <td>0.0</td>\n",
       "      <td>0.0</td>\n",
       "      <td>0.0</td>\n",
       "      <td>0.0</td>\n",
       "      <td>0.052632</td>\n",
       "      <td>0.263158</td>\n",
       "      <td>0.684211</td>\n",
       "      <td>3.815789</td>\n",
       "      <td>8.0</td>\n",
       "    </tr>\n",
       "    <tr>\n",
       "      <th>168</th>\n",
       "      <td>0</td>\n",
       "      <td>0</td>\n",
       "      <td>0</td>\n",
       "      <td>0</td>\n",
       "      <td>2</td>\n",
       "      <td>6</td>\n",
       "      <td>11</td>\n",
       "      <td>8.833333</td>\n",
       "      <td>a71789f0-09d9-3374-bd21-04a719a62af8</td>\n",
       "      <td>19</td>\n",
       "      <td>0.0</td>\n",
       "      <td>0.0</td>\n",
       "      <td>0.0</td>\n",
       "      <td>0.0</td>\n",
       "      <td>0.105263</td>\n",
       "      <td>0.315789</td>\n",
       "      <td>0.578947</td>\n",
       "      <td>3.736842</td>\n",
       "      <td>8.0</td>\n",
       "    </tr>\n",
       "    <tr>\n",
       "      <th>169</th>\n",
       "      <td>0</td>\n",
       "      <td>0</td>\n",
       "      <td>0</td>\n",
       "      <td>0</td>\n",
       "      <td>0</td>\n",
       "      <td>0</td>\n",
       "      <td>46</td>\n",
       "      <td>11.000000</td>\n",
       "      <td>a71789f0-09d9-3374-bd21-04a719a62af8</td>\n",
       "      <td>46</td>\n",
       "      <td>0.0</td>\n",
       "      <td>0.0</td>\n",
       "      <td>0.0</td>\n",
       "      <td>0.0</td>\n",
       "      <td>0.000000</td>\n",
       "      <td>0.000000</td>\n",
       "      <td>1.000000</td>\n",
       "      <td>4.000000</td>\n",
       "      <td>11.0</td>\n",
       "    </tr>\n",
       "  </tbody>\n",
       "</table>\n",
       "</div>"
      ],
      "text/plain": [
       "     f_count  d_count  c_count  bc_count  b_count  ab_count  a_count  \\\n",
       "165        0        0        0         0        0         0       46   \n",
       "166        0        0        0         0        0         0       41   \n",
       "167        0        0        0         0        1         5       13   \n",
       "168        0        0        0         0        2         6       11   \n",
       "169        0        0        0         0        0         0       46   \n",
       "\n",
       "     start_time                  course_offering_uuid  total  f_count_ratio  \\\n",
       "165    8.833333  a71789f0-09d9-3374-bd21-04a719a62af8     46            0.0   \n",
       "166    8.833333  a71789f0-09d9-3374-bd21-04a719a62af8     41            0.0   \n",
       "167    8.833333  a71789f0-09d9-3374-bd21-04a719a62af8     19            0.0   \n",
       "168    8.833333  a71789f0-09d9-3374-bd21-04a719a62af8     19            0.0   \n",
       "169   11.000000  a71789f0-09d9-3374-bd21-04a719a62af8     46            0.0   \n",
       "\n",
       "     d_count_ratio  c_count_ratio  bc_count_ratio  b_count_ratio  \\\n",
       "165            0.0            0.0             0.0       0.000000   \n",
       "166            0.0            0.0             0.0       0.000000   \n",
       "167            0.0            0.0             0.0       0.052632   \n",
       "168            0.0            0.0             0.0       0.105263   \n",
       "169            0.0            0.0             0.0       0.000000   \n",
       "\n",
       "     ab_count_ratio  a_count_ratio       gpa  hour_within  \n",
       "165        0.000000       1.000000  4.000000          8.0  \n",
       "166        0.000000       1.000000  4.000000          8.0  \n",
       "167        0.263158       0.684211  3.815789          8.0  \n",
       "168        0.315789       0.578947  3.736842          8.0  \n",
       "169        0.000000       1.000000  4.000000         11.0  "
      ]
     },
     "execution_count": 15,
     "metadata": {},
     "output_type": "execute_result"
    }
   ],
   "source": [
    "df_dropped.head()"
   ]
  },
  {
   "cell_type": "code",
   "execution_count": 16,
   "metadata": {},
   "outputs": [],
   "source": [
    "# df_dropped = df_dropped[['course_offering_uuid','hour_within', 'gpa', 'f_count', 'f_count_ratio', 'a_count', 'a_count_ratio','d_count', 'c_count', 'bc_count', 'b_count', 'ab_count']]"
   ]
  },
  {
   "cell_type": "code",
   "execution_count": 17,
   "metadata": {},
   "outputs": [
    {
     "data": {
      "text/plain": [
       "(766724, 19)"
      ]
     },
     "execution_count": 17,
     "metadata": {},
     "output_type": "execute_result"
    }
   ],
   "source": [
    "df_dropped.shape"
   ]
  },
  {
   "cell_type": "code",
   "execution_count": 18,
   "metadata": {},
   "outputs": [],
   "source": [
    "gpa_scale = np.array([0, 1, 2, 2.5, 3, 3.5, 4], dtype=\"float32\")\n",
    "df_dropped[\"gpa\"] = df_dropped[important_grades_ratios].apply(lambda x: np.dot(x, gpa_scale), axis=1)"
   ]
  },
  {
   "cell_type": "code",
   "execution_count": 19,
   "metadata": {},
   "outputs": [],
   "source": [
    "gpa_within_hour = df_dropped[[\"gpa\", \"hour_within\"]].groupby(\"hour_within\") "
   ]
  },
  {
   "cell_type": "markdown",
   "metadata": {},
   "source": [
    "Isolated all the classes that start within the hour of 8:00 AM"
   ]
  },
  {
   "cell_type": "code",
   "execution_count": 20,
   "metadata": {},
   "outputs": [],
   "source": [
    "df_8 = df_dropped.loc[df_dropped[\"hour_within\"] == 8]"
   ]
  },
  {
   "cell_type": "code",
   "execution_count": 21,
   "metadata": {},
   "outputs": [
    {
     "data": {
      "text/html": [
       "<div>\n",
       "<style scoped>\n",
       "    .dataframe tbody tr th:only-of-type {\n",
       "        vertical-align: middle;\n",
       "    }\n",
       "\n",
       "    .dataframe tbody tr th {\n",
       "        vertical-align: top;\n",
       "    }\n",
       "\n",
       "    .dataframe thead th {\n",
       "        text-align: right;\n",
       "    }\n",
       "</style>\n",
       "<table border=\"1\" class=\"dataframe\">\n",
       "  <thead>\n",
       "    <tr style=\"text-align: right;\">\n",
       "      <th></th>\n",
       "      <th>f_count</th>\n",
       "      <th>d_count</th>\n",
       "      <th>c_count</th>\n",
       "      <th>bc_count</th>\n",
       "      <th>b_count</th>\n",
       "      <th>ab_count</th>\n",
       "      <th>a_count</th>\n",
       "      <th>start_time</th>\n",
       "      <th>course_offering_uuid</th>\n",
       "      <th>total</th>\n",
       "      <th>f_count_ratio</th>\n",
       "      <th>d_count_ratio</th>\n",
       "      <th>c_count_ratio</th>\n",
       "      <th>bc_count_ratio</th>\n",
       "      <th>b_count_ratio</th>\n",
       "      <th>ab_count_ratio</th>\n",
       "      <th>a_count_ratio</th>\n",
       "      <th>gpa</th>\n",
       "      <th>hour_within</th>\n",
       "    </tr>\n",
       "  </thead>\n",
       "  <tbody>\n",
       "    <tr>\n",
       "      <th>165</th>\n",
       "      <td>0</td>\n",
       "      <td>0</td>\n",
       "      <td>0</td>\n",
       "      <td>0</td>\n",
       "      <td>0</td>\n",
       "      <td>0</td>\n",
       "      <td>46</td>\n",
       "      <td>8.833333</td>\n",
       "      <td>a71789f0-09d9-3374-bd21-04a719a62af8</td>\n",
       "      <td>46</td>\n",
       "      <td>0.0</td>\n",
       "      <td>0.0</td>\n",
       "      <td>0.0</td>\n",
       "      <td>0.0</td>\n",
       "      <td>0.000000</td>\n",
       "      <td>0.000000</td>\n",
       "      <td>1.000000</td>\n",
       "      <td>4.000000</td>\n",
       "      <td>8.0</td>\n",
       "    </tr>\n",
       "    <tr>\n",
       "      <th>166</th>\n",
       "      <td>0</td>\n",
       "      <td>0</td>\n",
       "      <td>0</td>\n",
       "      <td>0</td>\n",
       "      <td>0</td>\n",
       "      <td>0</td>\n",
       "      <td>41</td>\n",
       "      <td>8.833333</td>\n",
       "      <td>a71789f0-09d9-3374-bd21-04a719a62af8</td>\n",
       "      <td>41</td>\n",
       "      <td>0.0</td>\n",
       "      <td>0.0</td>\n",
       "      <td>0.0</td>\n",
       "      <td>0.0</td>\n",
       "      <td>0.000000</td>\n",
       "      <td>0.000000</td>\n",
       "      <td>1.000000</td>\n",
       "      <td>4.000000</td>\n",
       "      <td>8.0</td>\n",
       "    </tr>\n",
       "    <tr>\n",
       "      <th>167</th>\n",
       "      <td>0</td>\n",
       "      <td>0</td>\n",
       "      <td>0</td>\n",
       "      <td>0</td>\n",
       "      <td>1</td>\n",
       "      <td>5</td>\n",
       "      <td>13</td>\n",
       "      <td>8.833333</td>\n",
       "      <td>a71789f0-09d9-3374-bd21-04a719a62af8</td>\n",
       "      <td>19</td>\n",
       "      <td>0.0</td>\n",
       "      <td>0.0</td>\n",
       "      <td>0.0</td>\n",
       "      <td>0.0</td>\n",
       "      <td>0.052632</td>\n",
       "      <td>0.263158</td>\n",
       "      <td>0.684211</td>\n",
       "      <td>3.815789</td>\n",
       "      <td>8.0</td>\n",
       "    </tr>\n",
       "    <tr>\n",
       "      <th>168</th>\n",
       "      <td>0</td>\n",
       "      <td>0</td>\n",
       "      <td>0</td>\n",
       "      <td>0</td>\n",
       "      <td>2</td>\n",
       "      <td>6</td>\n",
       "      <td>11</td>\n",
       "      <td>8.833333</td>\n",
       "      <td>a71789f0-09d9-3374-bd21-04a719a62af8</td>\n",
       "      <td>19</td>\n",
       "      <td>0.0</td>\n",
       "      <td>0.0</td>\n",
       "      <td>0.0</td>\n",
       "      <td>0.0</td>\n",
       "      <td>0.105263</td>\n",
       "      <td>0.315789</td>\n",
       "      <td>0.578947</td>\n",
       "      <td>3.736842</td>\n",
       "      <td>8.0</td>\n",
       "    </tr>\n",
       "    <tr>\n",
       "      <th>336</th>\n",
       "      <td>0</td>\n",
       "      <td>0</td>\n",
       "      <td>0</td>\n",
       "      <td>0</td>\n",
       "      <td>0</td>\n",
       "      <td>2</td>\n",
       "      <td>23</td>\n",
       "      <td>8.833333</td>\n",
       "      <td>cb14977e-d147-3110-8bf0-83c363730609</td>\n",
       "      <td>25</td>\n",
       "      <td>0.0</td>\n",
       "      <td>0.0</td>\n",
       "      <td>0.0</td>\n",
       "      <td>0.0</td>\n",
       "      <td>0.000000</td>\n",
       "      <td>0.080000</td>\n",
       "      <td>0.920000</td>\n",
       "      <td>3.960000</td>\n",
       "      <td>8.0</td>\n",
       "    </tr>\n",
       "  </tbody>\n",
       "</table>\n",
       "</div>"
      ],
      "text/plain": [
       "     f_count  d_count  c_count  bc_count  b_count  ab_count  a_count  \\\n",
       "165        0        0        0         0        0         0       46   \n",
       "166        0        0        0         0        0         0       41   \n",
       "167        0        0        0         0        1         5       13   \n",
       "168        0        0        0         0        2         6       11   \n",
       "336        0        0        0         0        0         2       23   \n",
       "\n",
       "     start_time                  course_offering_uuid  total  f_count_ratio  \\\n",
       "165    8.833333  a71789f0-09d9-3374-bd21-04a719a62af8     46            0.0   \n",
       "166    8.833333  a71789f0-09d9-3374-bd21-04a719a62af8     41            0.0   \n",
       "167    8.833333  a71789f0-09d9-3374-bd21-04a719a62af8     19            0.0   \n",
       "168    8.833333  a71789f0-09d9-3374-bd21-04a719a62af8     19            0.0   \n",
       "336    8.833333  cb14977e-d147-3110-8bf0-83c363730609     25            0.0   \n",
       "\n",
       "     d_count_ratio  c_count_ratio  bc_count_ratio  b_count_ratio  \\\n",
       "165            0.0            0.0             0.0       0.000000   \n",
       "166            0.0            0.0             0.0       0.000000   \n",
       "167            0.0            0.0             0.0       0.052632   \n",
       "168            0.0            0.0             0.0       0.105263   \n",
       "336            0.0            0.0             0.0       0.000000   \n",
       "\n",
       "     ab_count_ratio  a_count_ratio       gpa  hour_within  \n",
       "165        0.000000       1.000000  4.000000          8.0  \n",
       "166        0.000000       1.000000  4.000000          8.0  \n",
       "167        0.263158       0.684211  3.815789          8.0  \n",
       "168        0.315789       0.578947  3.736842          8.0  \n",
       "336        0.080000       0.920000  3.960000          8.0  "
      ]
     },
     "execution_count": 21,
     "metadata": {},
     "output_type": "execute_result"
    }
   ],
   "source": [
    "df_8.head()"
   ]
  },
  {
   "cell_type": "markdown",
   "metadata": {},
   "source": [
    "Isolated all the classes that start within the hour of 1:00 PM"
   ]
  },
  {
   "cell_type": "code",
   "execution_count": 22,
   "metadata": {},
   "outputs": [],
   "source": [
    "df_2 = df_dropped.loc[df_dropped[\"hour_within\"] == 13]"
   ]
  },
  {
   "cell_type": "code",
   "execution_count": 23,
   "metadata": {},
   "outputs": [
    {
     "data": {
      "text/html": [
       "<div>\n",
       "<style scoped>\n",
       "    .dataframe tbody tr th:only-of-type {\n",
       "        vertical-align: middle;\n",
       "    }\n",
       "\n",
       "    .dataframe tbody tr th {\n",
       "        vertical-align: top;\n",
       "    }\n",
       "\n",
       "    .dataframe thead th {\n",
       "        text-align: right;\n",
       "    }\n",
       "</style>\n",
       "<table border=\"1\" class=\"dataframe\">\n",
       "  <thead>\n",
       "    <tr style=\"text-align: right;\">\n",
       "      <th></th>\n",
       "      <th>f_count</th>\n",
       "      <th>d_count</th>\n",
       "      <th>c_count</th>\n",
       "      <th>bc_count</th>\n",
       "      <th>b_count</th>\n",
       "      <th>ab_count</th>\n",
       "      <th>a_count</th>\n",
       "      <th>start_time</th>\n",
       "      <th>course_offering_uuid</th>\n",
       "      <th>total</th>\n",
       "      <th>f_count_ratio</th>\n",
       "      <th>d_count_ratio</th>\n",
       "      <th>c_count_ratio</th>\n",
       "      <th>bc_count_ratio</th>\n",
       "      <th>b_count_ratio</th>\n",
       "      <th>ab_count_ratio</th>\n",
       "      <th>a_count_ratio</th>\n",
       "      <th>gpa</th>\n",
       "      <th>hour_within</th>\n",
       "    </tr>\n",
       "  </thead>\n",
       "  <tbody>\n",
       "    <tr>\n",
       "      <th>173</th>\n",
       "      <td>0</td>\n",
       "      <td>0</td>\n",
       "      <td>0</td>\n",
       "      <td>0</td>\n",
       "      <td>0</td>\n",
       "      <td>0</td>\n",
       "      <td>46</td>\n",
       "      <td>13.333333</td>\n",
       "      <td>a71789f0-09d9-3374-bd21-04a719a62af8</td>\n",
       "      <td>46</td>\n",
       "      <td>0.0</td>\n",
       "      <td>0.0</td>\n",
       "      <td>0.0</td>\n",
       "      <td>0.0</td>\n",
       "      <td>0.000000</td>\n",
       "      <td>0.000000</td>\n",
       "      <td>1.000000</td>\n",
       "      <td>4.000000</td>\n",
       "      <td>13.0</td>\n",
       "    </tr>\n",
       "    <tr>\n",
       "      <th>174</th>\n",
       "      <td>0</td>\n",
       "      <td>0</td>\n",
       "      <td>0</td>\n",
       "      <td>0</td>\n",
       "      <td>0</td>\n",
       "      <td>0</td>\n",
       "      <td>41</td>\n",
       "      <td>13.333333</td>\n",
       "      <td>a71789f0-09d9-3374-bd21-04a719a62af8</td>\n",
       "      <td>41</td>\n",
       "      <td>0.0</td>\n",
       "      <td>0.0</td>\n",
       "      <td>0.0</td>\n",
       "      <td>0.0</td>\n",
       "      <td>0.000000</td>\n",
       "      <td>0.000000</td>\n",
       "      <td>1.000000</td>\n",
       "      <td>4.000000</td>\n",
       "      <td>13.0</td>\n",
       "    </tr>\n",
       "    <tr>\n",
       "      <th>175</th>\n",
       "      <td>0</td>\n",
       "      <td>0</td>\n",
       "      <td>0</td>\n",
       "      <td>0</td>\n",
       "      <td>1</td>\n",
       "      <td>5</td>\n",
       "      <td>13</td>\n",
       "      <td>13.333333</td>\n",
       "      <td>a71789f0-09d9-3374-bd21-04a719a62af8</td>\n",
       "      <td>19</td>\n",
       "      <td>0.0</td>\n",
       "      <td>0.0</td>\n",
       "      <td>0.0</td>\n",
       "      <td>0.0</td>\n",
       "      <td>0.052632</td>\n",
       "      <td>0.263158</td>\n",
       "      <td>0.684211</td>\n",
       "      <td>3.815789</td>\n",
       "      <td>13.0</td>\n",
       "    </tr>\n",
       "    <tr>\n",
       "      <th>176</th>\n",
       "      <td>0</td>\n",
       "      <td>0</td>\n",
       "      <td>0</td>\n",
       "      <td>0</td>\n",
       "      <td>2</td>\n",
       "      <td>6</td>\n",
       "      <td>11</td>\n",
       "      <td>13.333333</td>\n",
       "      <td>a71789f0-09d9-3374-bd21-04a719a62af8</td>\n",
       "      <td>19</td>\n",
       "      <td>0.0</td>\n",
       "      <td>0.0</td>\n",
       "      <td>0.0</td>\n",
       "      <td>0.0</td>\n",
       "      <td>0.105263</td>\n",
       "      <td>0.315789</td>\n",
       "      <td>0.578947</td>\n",
       "      <td>3.736842</td>\n",
       "      <td>13.0</td>\n",
       "    </tr>\n",
       "    <tr>\n",
       "      <th>181</th>\n",
       "      <td>0</td>\n",
       "      <td>0</td>\n",
       "      <td>0</td>\n",
       "      <td>0</td>\n",
       "      <td>0</td>\n",
       "      <td>2</td>\n",
       "      <td>38</td>\n",
       "      <td>13.333333</td>\n",
       "      <td>ecc4cf96-0a8f-3775-9cb1-16b32cd3da26</td>\n",
       "      <td>40</td>\n",
       "      <td>0.0</td>\n",
       "      <td>0.0</td>\n",
       "      <td>0.0</td>\n",
       "      <td>0.0</td>\n",
       "      <td>0.000000</td>\n",
       "      <td>0.050000</td>\n",
       "      <td>0.950000</td>\n",
       "      <td>3.975000</td>\n",
       "      <td>13.0</td>\n",
       "    </tr>\n",
       "  </tbody>\n",
       "</table>\n",
       "</div>"
      ],
      "text/plain": [
       "     f_count  d_count  c_count  bc_count  b_count  ab_count  a_count  \\\n",
       "173        0        0        0         0        0         0       46   \n",
       "174        0        0        0         0        0         0       41   \n",
       "175        0        0        0         0        1         5       13   \n",
       "176        0        0        0         0        2         6       11   \n",
       "181        0        0        0         0        0         2       38   \n",
       "\n",
       "     start_time                  course_offering_uuid  total  f_count_ratio  \\\n",
       "173   13.333333  a71789f0-09d9-3374-bd21-04a719a62af8     46            0.0   \n",
       "174   13.333333  a71789f0-09d9-3374-bd21-04a719a62af8     41            0.0   \n",
       "175   13.333333  a71789f0-09d9-3374-bd21-04a719a62af8     19            0.0   \n",
       "176   13.333333  a71789f0-09d9-3374-bd21-04a719a62af8     19            0.0   \n",
       "181   13.333333  ecc4cf96-0a8f-3775-9cb1-16b32cd3da26     40            0.0   \n",
       "\n",
       "     d_count_ratio  c_count_ratio  bc_count_ratio  b_count_ratio  \\\n",
       "173            0.0            0.0             0.0       0.000000   \n",
       "174            0.0            0.0             0.0       0.000000   \n",
       "175            0.0            0.0             0.0       0.052632   \n",
       "176            0.0            0.0             0.0       0.105263   \n",
       "181            0.0            0.0             0.0       0.000000   \n",
       "\n",
       "     ab_count_ratio  a_count_ratio       gpa  hour_within  \n",
       "173        0.000000       1.000000  4.000000         13.0  \n",
       "174        0.000000       1.000000  4.000000         13.0  \n",
       "175        0.263158       0.684211  3.815789         13.0  \n",
       "176        0.315789       0.578947  3.736842         13.0  \n",
       "181        0.050000       0.950000  3.975000         13.0  "
      ]
     },
     "execution_count": 23,
     "metadata": {},
     "output_type": "execute_result"
    }
   ],
   "source": [
    "df_2.head()"
   ]
  },
  {
   "cell_type": "code",
   "execution_count": 24,
   "metadata": {},
   "outputs": [],
   "source": [
    "# df_1 = df_1[['course_offering_uuid','hour_within', 'gpa', 'f_count', 'f_count_ratio', 'a_count', 'a_count_ratio','d_count', 'c_count', 'bc_count', 'b_count', 'ab_count']]"
   ]
  },
  {
   "cell_type": "code",
   "execution_count": 25,
   "metadata": {},
   "outputs": [
    {
     "data": {
      "text/html": [
       "<div>\n",
       "<style scoped>\n",
       "    .dataframe tbody tr th:only-of-type {\n",
       "        vertical-align: middle;\n",
       "    }\n",
       "\n",
       "    .dataframe tbody tr th {\n",
       "        vertical-align: top;\n",
       "    }\n",
       "\n",
       "    .dataframe thead th {\n",
       "        text-align: right;\n",
       "    }\n",
       "</style>\n",
       "<table border=\"1\" class=\"dataframe\">\n",
       "  <thead>\n",
       "    <tr style=\"text-align: right;\">\n",
       "      <th></th>\n",
       "      <th>f_count</th>\n",
       "      <th>d_count</th>\n",
       "      <th>c_count</th>\n",
       "      <th>bc_count</th>\n",
       "      <th>b_count</th>\n",
       "      <th>ab_count</th>\n",
       "      <th>a_count</th>\n",
       "      <th>start_time</th>\n",
       "      <th>total</th>\n",
       "      <th>f_count_ratio</th>\n",
       "      <th>d_count_ratio</th>\n",
       "      <th>c_count_ratio</th>\n",
       "      <th>bc_count_ratio</th>\n",
       "      <th>b_count_ratio</th>\n",
       "      <th>ab_count_ratio</th>\n",
       "      <th>a_count_ratio</th>\n",
       "      <th>gpa</th>\n",
       "      <th>hour_within</th>\n",
       "    </tr>\n",
       "  </thead>\n",
       "  <tbody>\n",
       "    <tr>\n",
       "      <th>count</th>\n",
       "      <td>123270.000000</td>\n",
       "      <td>123270.00000</td>\n",
       "      <td>123270.000000</td>\n",
       "      <td>123270.000000</td>\n",
       "      <td>123270.000000</td>\n",
       "      <td>123270.000000</td>\n",
       "      <td>123270.000000</td>\n",
       "      <td>123270.000000</td>\n",
       "      <td>123270.000000</td>\n",
       "      <td>113047.000000</td>\n",
       "      <td>113047.000000</td>\n",
       "      <td>113047.000000</td>\n",
       "      <td>113047.000000</td>\n",
       "      <td>113047.000000</td>\n",
       "      <td>113047.000000</td>\n",
       "      <td>113047.000000</td>\n",
       "      <td>113047.000000</td>\n",
       "      <td>123270.0</td>\n",
       "    </tr>\n",
       "    <tr>\n",
       "      <th>mean</th>\n",
       "      <td>0.672191</td>\n",
       "      <td>1.37357</td>\n",
       "      <td>5.066083</td>\n",
       "      <td>4.744561</td>\n",
       "      <td>12.446281</td>\n",
       "      <td>9.790549</td>\n",
       "      <td>15.200089</td>\n",
       "      <td>13.250758</td>\n",
       "      <td>49.293324</td>\n",
       "      <td>0.008920</td>\n",
       "      <td>0.014261</td>\n",
       "      <td>0.056786</td>\n",
       "      <td>0.068923</td>\n",
       "      <td>0.221735</td>\n",
       "      <td>0.228909</td>\n",
       "      <td>0.400467</td>\n",
       "      <td>3.368394</td>\n",
       "      <td>13.0</td>\n",
       "    </tr>\n",
       "    <tr>\n",
       "      <th>std</th>\n",
       "      <td>2.088344</td>\n",
       "      <td>4.11415</td>\n",
       "      <td>12.872938</td>\n",
       "      <td>10.723963</td>\n",
       "      <td>24.166786</td>\n",
       "      <td>16.560322</td>\n",
       "      <td>27.843329</td>\n",
       "      <td>0.155317</td>\n",
       "      <td>80.416239</td>\n",
       "      <td>0.022771</td>\n",
       "      <td>0.030250</td>\n",
       "      <td>0.077460</td>\n",
       "      <td>0.077348</td>\n",
       "      <td>0.164511</td>\n",
       "      <td>0.157965</td>\n",
       "      <td>0.268250</td>\n",
       "      <td>0.375679</td>\n",
       "      <td>0.0</td>\n",
       "    </tr>\n",
       "    <tr>\n",
       "      <th>min</th>\n",
       "      <td>0.000000</td>\n",
       "      <td>0.00000</td>\n",
       "      <td>0.000000</td>\n",
       "      <td>0.000000</td>\n",
       "      <td>0.000000</td>\n",
       "      <td>0.000000</td>\n",
       "      <td>0.000000</td>\n",
       "      <td>13.000000</td>\n",
       "      <td>0.000000</td>\n",
       "      <td>0.000000</td>\n",
       "      <td>0.000000</td>\n",
       "      <td>0.000000</td>\n",
       "      <td>0.000000</td>\n",
       "      <td>0.000000</td>\n",
       "      <td>0.000000</td>\n",
       "      <td>0.000000</td>\n",
       "      <td>1.208333</td>\n",
       "      <td>13.0</td>\n",
       "    </tr>\n",
       "    <tr>\n",
       "      <th>25%</th>\n",
       "      <td>0.000000</td>\n",
       "      <td>0.00000</td>\n",
       "      <td>0.000000</td>\n",
       "      <td>0.000000</td>\n",
       "      <td>1.000000</td>\n",
       "      <td>2.000000</td>\n",
       "      <td>3.000000</td>\n",
       "      <td>13.000000</td>\n",
       "      <td>13.000000</td>\n",
       "      <td>0.000000</td>\n",
       "      <td>0.000000</td>\n",
       "      <td>0.000000</td>\n",
       "      <td>0.000000</td>\n",
       "      <td>0.090909</td>\n",
       "      <td>0.111111</td>\n",
       "      <td>0.200000</td>\n",
       "      <td>3.103448</td>\n",
       "      <td>13.0</td>\n",
       "    </tr>\n",
       "    <tr>\n",
       "      <th>50%</th>\n",
       "      <td>0.000000</td>\n",
       "      <td>0.00000</td>\n",
       "      <td>0.000000</td>\n",
       "      <td>1.000000</td>\n",
       "      <td>4.000000</td>\n",
       "      <td>5.000000</td>\n",
       "      <td>7.000000</td>\n",
       "      <td>13.333333</td>\n",
       "      <td>19.000000</td>\n",
       "      <td>0.000000</td>\n",
       "      <td>0.000000</td>\n",
       "      <td>0.011494</td>\n",
       "      <td>0.052239</td>\n",
       "      <td>0.222222</td>\n",
       "      <td>0.210526</td>\n",
       "      <td>0.315789</td>\n",
       "      <td>3.352564</td>\n",
       "      <td>13.0</td>\n",
       "    </tr>\n",
       "    <tr>\n",
       "      <th>75%</th>\n",
       "      <td>0.000000</td>\n",
       "      <td>1.00000</td>\n",
       "      <td>2.000000</td>\n",
       "      <td>3.000000</td>\n",
       "      <td>9.000000</td>\n",
       "      <td>9.000000</td>\n",
       "      <td>16.000000</td>\n",
       "      <td>13.333333</td>\n",
       "      <td>35.000000</td>\n",
       "      <td>0.000000</td>\n",
       "      <td>0.013158</td>\n",
       "      <td>0.090909</td>\n",
       "      <td>0.116788</td>\n",
       "      <td>0.318182</td>\n",
       "      <td>0.333333</td>\n",
       "      <td>0.555556</td>\n",
       "      <td>3.666667</td>\n",
       "      <td>13.0</td>\n",
       "    </tr>\n",
       "    <tr>\n",
       "      <th>max</th>\n",
       "      <td>37.000000</td>\n",
       "      <td>62.00000</td>\n",
       "      <td>139.000000</td>\n",
       "      <td>125.000000</td>\n",
       "      <td>219.000000</td>\n",
       "      <td>234.000000</td>\n",
       "      <td>704.000000</td>\n",
       "      <td>13.916667</td>\n",
       "      <td>716.000000</td>\n",
       "      <td>0.500000</td>\n",
       "      <td>0.545455</td>\n",
       "      <td>1.000000</td>\n",
       "      <td>0.555556</td>\n",
       "      <td>1.000000</td>\n",
       "      <td>1.000000</td>\n",
       "      <td>1.000000</td>\n",
       "      <td>4.000000</td>\n",
       "      <td>13.0</td>\n",
       "    </tr>\n",
       "  </tbody>\n",
       "</table>\n",
       "</div>"
      ],
      "text/plain": [
       "             f_count       d_count        c_count       bc_count  \\\n",
       "count  123270.000000  123270.00000  123270.000000  123270.000000   \n",
       "mean        0.672191       1.37357       5.066083       4.744561   \n",
       "std         2.088344       4.11415      12.872938      10.723963   \n",
       "min         0.000000       0.00000       0.000000       0.000000   \n",
       "25%         0.000000       0.00000       0.000000       0.000000   \n",
       "50%         0.000000       0.00000       0.000000       1.000000   \n",
       "75%         0.000000       1.00000       2.000000       3.000000   \n",
       "max        37.000000      62.00000     139.000000     125.000000   \n",
       "\n",
       "             b_count       ab_count        a_count     start_time  \\\n",
       "count  123270.000000  123270.000000  123270.000000  123270.000000   \n",
       "mean       12.446281       9.790549      15.200089      13.250758   \n",
       "std        24.166786      16.560322      27.843329       0.155317   \n",
       "min         0.000000       0.000000       0.000000      13.000000   \n",
       "25%         1.000000       2.000000       3.000000      13.000000   \n",
       "50%         4.000000       5.000000       7.000000      13.333333   \n",
       "75%         9.000000       9.000000      16.000000      13.333333   \n",
       "max       219.000000     234.000000     704.000000      13.916667   \n",
       "\n",
       "               total  f_count_ratio  d_count_ratio  c_count_ratio  \\\n",
       "count  123270.000000  113047.000000  113047.000000  113047.000000   \n",
       "mean       49.293324       0.008920       0.014261       0.056786   \n",
       "std        80.416239       0.022771       0.030250       0.077460   \n",
       "min         0.000000       0.000000       0.000000       0.000000   \n",
       "25%        13.000000       0.000000       0.000000       0.000000   \n",
       "50%        19.000000       0.000000       0.000000       0.011494   \n",
       "75%        35.000000       0.000000       0.013158       0.090909   \n",
       "max       716.000000       0.500000       0.545455       1.000000   \n",
       "\n",
       "       bc_count_ratio  b_count_ratio  ab_count_ratio  a_count_ratio  \\\n",
       "count   113047.000000  113047.000000   113047.000000  113047.000000   \n",
       "mean         0.068923       0.221735        0.228909       0.400467   \n",
       "std          0.077348       0.164511        0.157965       0.268250   \n",
       "min          0.000000       0.000000        0.000000       0.000000   \n",
       "25%          0.000000       0.090909        0.111111       0.200000   \n",
       "50%          0.052239       0.222222        0.210526       0.315789   \n",
       "75%          0.116788       0.318182        0.333333       0.555556   \n",
       "max          0.555556       1.000000        1.000000       1.000000   \n",
       "\n",
       "                 gpa  hour_within  \n",
       "count  113047.000000     123270.0  \n",
       "mean        3.368394         13.0  \n",
       "std         0.375679          0.0  \n",
       "min         1.208333         13.0  \n",
       "25%         3.103448         13.0  \n",
       "50%         3.352564         13.0  \n",
       "75%         3.666667         13.0  \n",
       "max         4.000000         13.0  "
      ]
     },
     "execution_count": 25,
     "metadata": {},
     "output_type": "execute_result"
    }
   ],
   "source": [
    "df_2.describe()"
   ]
  },
  {
   "cell_type": "code",
   "execution_count": 26,
   "metadata": {},
   "outputs": [
    {
     "data": {
      "text/plain": [
       "count    113047.000000\n",
       "mean          3.368394\n",
       "std           0.375679\n",
       "min           1.208333\n",
       "25%           3.103448\n",
       "50%           3.352564\n",
       "75%           3.666667\n",
       "max           4.000000\n",
       "Name: gpa, dtype: float64"
      ]
     },
     "execution_count": 26,
     "metadata": {},
     "output_type": "execute_result"
    }
   ],
   "source": [
    "df_2['gpa'].describe()"
   ]
  },
  {
   "cell_type": "code",
   "execution_count": 27,
   "metadata": {},
   "outputs": [],
   "source": [
    "# df_8 = df_8[['course_offering_uuid','hour_within', 'gpa', 'f_count', 'f_count_ratio', 'a_count', 'a_count_ratio','d_count', 'c_count', 'bc_count', 'b_count', 'ab_count']]"
   ]
  },
  {
   "cell_type": "code",
   "execution_count": 28,
   "metadata": {},
   "outputs": [
    {
     "data": {
      "text/plain": [
       "count    80187.000000\n",
       "mean         3.371119\n",
       "std          0.384760\n",
       "min          1.000000\n",
       "25%          3.099206\n",
       "50%          3.346154\n",
       "75%          3.678571\n",
       "max          4.000000\n",
       "Name: gpa, dtype: float64"
      ]
     },
     "execution_count": 28,
     "metadata": {},
     "output_type": "execute_result"
    }
   ],
   "source": [
    "df_8['gpa'].describe()"
   ]
  },
  {
   "cell_type": "code",
   "execution_count": 29,
   "metadata": {},
   "outputs": [
    {
     "data": {
      "image/png": "[encoded data removed]",
      "text/plain": [
       "<Figure size 1440x1008 with 20 Axes>"
      ]
     },
     "metadata": {
      "needs_background": "light"
     },
     "output_type": "display_data"
    }
   ],
   "source": [
    "%matplotlib inline\n",
    "\n",
    "df_8.hist(bins=10, figsize  = [20, 14])\n",
    "plt.title('Grades for 8:00 AM Classes')\n",
    "plt.show()"
   ]
  },
  {
   "cell_type": "code",
   "execution_count": 30,
   "metadata": {},
   "outputs": [
    {
     "data": {
      "image/png": "[encoded data removed]",
      "text/plain": [
       "<Figure size 1440x1008 with 20 Axes>"
      ]
     },
     "metadata": {
      "needs_background": "light"
     },
     "output_type": "display_data"
    }
   ],
   "source": [
    "%matplotlib inline\n",
    "\n",
    "df_2.hist(bins=10, figsize  = [20, 14])\n",
    "plt.title('Grades for 1:00 PM Classes')\n",
    "plt.show()"
   ]
  },
  {
   "cell_type": "code",
   "execution_count": 31,
   "metadata": {},
   "outputs": [],
   "source": [
    "pass_fail_ratio_1 = (df_2.f_count_ratio.sum() + df_2.d_count_ratio.sum()) / (df_2.a_count_ratio.sum() + df_2.ab_count_ratio.sum() + df_2.b_count_ratio.sum() + df_2.bc_count_ratio.sum() + df_2.c_count_ratio.sum() + df_2.d_count_ratio.sum() + df_2.f_count_ratio.sum())\n"
   ]
  },
  {
   "cell_type": "code",
   "execution_count": 32,
   "metadata": {},
   "outputs": [],
   "source": [
    "pass_fail_ratio_8 = (df_8.f_count_ratio.sum() + df_8.d_count_ratio.sum()) / (df_8.a_count_ratio.sum() + df_8.ab_count_ratio.sum() + df_8.b_count_ratio.sum() + df_8.bc_count_ratio.sum() + df_8.c_count_ratio.sum() + df_8.d_count_ratio.sum() + df_8.f_count_ratio.sum())\n"
   ]
  },
  {
   "cell_type": "code",
   "execution_count": 33,
   "metadata": {},
   "outputs": [
    {
     "data": {
      "text/plain": [
       "0.023180483365384207"
      ]
     },
     "execution_count": 33,
     "metadata": {},
     "output_type": "execute_result"
    }
   ],
   "source": [
    "pass_fail_ratio_1"
   ]
  },
  {
   "cell_type": "code",
   "execution_count": 34,
   "metadata": {},
   "outputs": [
    {
     "data": {
      "text/plain": [
       "0.0226003779895223"
      ]
     },
     "execution_count": 34,
     "metadata": {},
     "output_type": "execute_result"
    }
   ],
   "source": [
    "pass_fail_ratio_8"
   ]
  },
  {
   "cell_type": "code",
   "execution_count": 35,
   "metadata": {},
   "outputs": [
    {
     "data": {
      "text/plain": [
       "f_count            0.672191\n",
       "d_count            1.373570\n",
       "c_count            5.066083\n",
       "bc_count           4.744561\n",
       "b_count           12.446281\n",
       "ab_count           9.790549\n",
       "a_count           15.200089\n",
       "start_time        13.250758\n",
       "total             49.293324\n",
       "f_count_ratio      0.008920\n",
       "d_count_ratio      0.014261\n",
       "c_count_ratio      0.056786\n",
       "bc_count_ratio     0.068923\n",
       "b_count_ratio      0.221735\n",
       "ab_count_ratio     0.228909\n",
       "a_count_ratio      0.400467\n",
       "gpa                3.368394\n",
       "hour_within       13.000000\n",
       "Name: mean, dtype: float64"
      ]
     },
     "execution_count": 35,
     "metadata": {},
     "output_type": "execute_result"
    }
   ],
   "source": [
    "df_2.describe().loc['mean']"
   ]
  },
  {
   "cell_type": "code",
   "execution_count": 36,
   "metadata": {},
   "outputs": [
    {
     "data": {
      "text/plain": [
       "f_count            0.663113\n",
       "d_count            1.423656\n",
       "c_count            5.291930\n",
       "bc_count           4.921381\n",
       "b_count           12.295020\n",
       "ab_count           9.361177\n",
       "a_count           14.353537\n",
       "start_time         8.612979\n",
       "total             48.309813\n",
       "f_count_ratio      0.008479\n",
       "d_count_ratio      0.014121\n",
       "c_count_ratio      0.057993\n",
       "bc_count_ratio     0.068289\n",
       "b_count_ratio      0.223400\n",
       "ab_count_ratio     0.221563\n",
       "a_count_ratio      0.406155\n",
       "gpa                3.371119\n",
       "hour_within        8.000000\n",
       "Name: mean, dtype: float64"
      ]
     },
     "execution_count": 36,
     "metadata": {},
     "output_type": "execute_result"
    }
   ],
   "source": [
    "df_8.describe().loc['mean']"
   ]
  },
  {
   "cell_type": "code",
   "execution_count": 37,
   "metadata": {},
   "outputs": [],
   "source": [
    "df_dropped_2 = df_2[['f_count_ratio', 'd_count_ratio', 'c_count_ratio','bc_count_ratio','b_count_ratio','ab_count_ratio', 'a_count_ratio']]"
   ]
  },
  {
   "cell_type": "code",
   "execution_count": 38,
   "metadata": {},
   "outputs": [
    {
     "data": {
      "text/plain": [
       "Text(0.5, 1.0, 'Grade Percentage for 1:00 PM Classes')"
      ]
     },
     "execution_count": 38,
     "metadata": {},
     "output_type": "execute_result"
    },
    {
     "data": {
      "image/png": "[encoded data removed]",
      "text/plain": [
       "<Figure size 720x576 with 1 Axes>"
      ]
     },
     "metadata": {
      "needs_background": "light"
     },
     "output_type": "display_data"
    }
   ],
   "source": [
    "df_dropped_2.describe().loc['mean'].plot.bar(width = 0.75, figsize = (10,8))\n",
    "plt.xlabel('Grade Ratio for UW Madison from 2006-2017',fontsize=14)\n",
    "plt.title('Grade Percentage for 1:00 PM Classes')"
   ]
  },
  {
   "cell_type": "code",
   "execution_count": 39,
   "metadata": {},
   "outputs": [],
   "source": [
    "df_dropped_8 = df_8[['f_count_ratio', 'd_count_ratio', 'c_count_ratio','bc_count_ratio','b_count_ratio','ab_count_ratio', 'a_count_ratio']]"
   ]
  },
  {
   "cell_type": "code",
   "execution_count": 40,
   "metadata": {},
   "outputs": [
    {
     "data": {
      "text/plain": [
       "Text(0.5, 1.0, 'Grade Percentage for 8:00 AM Classes')"
      ]
     },
     "execution_count": 40,
     "metadata": {},
     "output_type": "execute_result"
    },
    {
     "data": {
      "image/png": "[encoded data removed]",
      "text/plain": [
       "<Figure size 720x576 with 1 Axes>"
      ]
     },
     "metadata": {
      "needs_background": "light"
     },
     "output_type": "display_data"
    }
   ],
   "source": [
    "df_dropped_2.describe().loc['mean'].plot.bar(width = 0.75, figsize = (10,8))\n",
    "plt.xlabel('Grade Ratio for UW Madison from 2006-2017',fontsize=14)\n",
    "plt.title('Grade Percentage for 8:00 AM Classes')"
   ]
  },
  {
   "cell_type": "markdown",
   "metadata": {},
   "source": [
    "Converted F's into an array to run a Z-Test"
   ]
  },
  {
   "cell_type": "code",
   "execution_count": 41,
   "metadata": {},
   "outputs": [],
   "source": [
    "x1 = df_2['f_count'].as_matrix(columns=None)"
   ]
  },
  {
   "cell_type": "code",
   "execution_count": 42,
   "metadata": {},
   "outputs": [],
   "source": [
    "x2 = df_8['f_count'].as_matrix(columns=None)"
   ]
  },
  {
   "cell_type": "code",
   "execution_count": 43,
   "metadata": {},
   "outputs": [],
   "source": [
    "import statsmodels as sm "
   ]
  },
  {
   "cell_type": "code",
   "execution_count": 44,
   "metadata": {},
   "outputs": [
    {
     "data": {
      "text/plain": [
       "(0.9736438374568975, 0.33023341210544765)"
      ]
     },
     "execution_count": 44,
     "metadata": {},
     "output_type": "execute_result"
    }
   ],
   "source": [
    "sm.stats.weightstats.ztest(x1, x2, value=0, alternative='two-sided', usevar='pooled', ddof=1.0)"
   ]
  },
  {
   "cell_type": "code",
   "execution_count": 45,
   "metadata": {},
   "outputs": [
    {
     "data": {
      "text/plain": [
       "<matplotlib.axes._subplots.AxesSubplot at 0x1c4a83e080>"
      ]
     },
     "execution_count": 45,
     "metadata": {},
     "output_type": "execute_result"
    },
    {
     "data": {
      "image/png": "[encoded data removed]",
      "text/plain": [
       "<Figure size 432x288 with 1 Axes>"
      ]
     },
     "metadata": {
      "needs_background": "light"
     },
     "output_type": "display_data"
    }
   ],
   "source": [
    "sns.distplot(x1)\n",
    "sns.distplot(x2)\n",
    "             \n",
    "            "
   ]
  },
  {
   "cell_type": "code",
   "execution_count": 46,
   "metadata": {},
   "outputs": [
    {
     "data": {
      "text/plain": [
       "Text(0.5, 0, 'Percent Failures')"
      ]
     },
     "execution_count": 46,
     "metadata": {},
     "output_type": "execute_result"
    },
    {
     "data": {
      "image/png": "[encoded data removed]",
      "text/plain": [
       "<Figure size 864x720 with 1 Axes>"
      ]
     },
     "metadata": {},
     "output_type": "display_data"
    }
   ],
   "source": [
    "to_graph =  [x1, x2]\n",
    "\n",
    "#Seaborn distplot of room 2170 Intro to Finance\n",
    "sns.set_style('darkgrid')\n",
    "sns.set(font_scale=2.5)\n",
    "\n",
    "fig, ax = plt.subplots(figsize=(12,10))\n",
    "for graph in to_graph:\n",
    "    sns.distplot(graph,  ax = ax)\n",
    "    \n",
    "ax.set_title(\"Failures for 8:00 AM Classes and 1:00 PM\")\n",
    "ax.set_ylabel(\"Frequency\")\n",
    "ax.set_xlabel(\"Percent Failures\")"
   ]
  },
  {
   "cell_type": "code",
   "execution_count": null,
   "metadata": {},
   "outputs": [],
   "source": []
  },
  {
   "cell_type": "code",
   "execution_count": null,
   "metadata": {},
   "outputs": [],
   "source": []
  }
 ],
 "metadata": {
  "kernelspec": {
   "display_name": "Python 3",
   "language": "python",
   "name": "python3"
  },
  "language_info": {
   "codemirror_mode": {
    "name": "ipython",
    "version": 3
   },
   "file_extension": ".py",
   "mimetype": "text/x-python",
   "name": "python",
   "nbconvert_exporter": "python",
   "pygments_lexer": "ipython3",
   "version": "3.6.6"
  }
 },
 "nbformat": 4,
 "nbformat_minor": 2
}
